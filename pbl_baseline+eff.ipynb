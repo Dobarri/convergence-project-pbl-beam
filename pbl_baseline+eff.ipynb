{
  "nbformat": 4,
  "nbformat_minor": 0,
  "metadata": {
    "colab": {
      "provenance": []
    },
    "kernelspec": {
      "name": "python3",
      "display_name": "Python 3"
    },
    "language_info": {
      "name": "python"
    },
    "gpuClass": "standard"
  },
  "cells": [
    {
      "cell_type": "code",
      "execution_count": 1,
      "metadata": {
        "colab": {
          "base_uri": "https://localhost:8080/"
        },
        "id": "Rnc88ZT1XvK_",
        "outputId": "c4cd17a6-f9eb-4ca4-ece8-1711c1480c46"
      },
      "outputs": [
        {
          "output_type": "stream",
          "name": "stdout",
          "text": [
            "Mounted at /content/drive\n"
          ]
        }
      ],
      "source": [
        "from google.colab import drive\n",
        "drive.mount('/content/drive')"
      ]
    },
    {
      "cell_type": "code",
      "source": [
        "#!wget -O /content/drive/MyDrive/Vision.zip \"https://www.dropbox.com/s/mamwc19rgy8wiv5/Vision.zip?dl=1\""
      ],
      "metadata": {
        "id": "7u_YuLuLZXu2"
      },
      "execution_count": 2,
      "outputs": []
    },
    {
      "cell_type": "code",
      "source": [
        "#!unzip Vision.zip -d \"/content/drive/MyDrive/Vision\""
      ],
      "metadata": {
        "id": "S4l56lXVZY3m"
      },
      "execution_count": 3,
      "outputs": []
    },
    {
      "cell_type": "code",
      "source": [
        "%cd /content/drive/MyDrive"
      ],
      "metadata": {
        "colab": {
          "base_uri": "https://localhost:8080/"
        },
        "id": "JDIaUexwZZZJ",
        "outputId": "a2c3b0ce-e241-4d3a-aaa5-9c19d92bc7ce"
      },
      "execution_count": 10,
      "outputs": [
        {
          "output_type": "stream",
          "name": "stdout",
          "text": [
            "/content/drive/MyDrive\n"
          ]
        }
      ]
    },
    {
      "cell_type": "code",
      "source": [
        "import os\n",
        "import numpy as np\n",
        "import pandas as pd\n",
        "import torch\n",
        "import matplotlib.pyplot as plt\n",
        "from tqdm import tqdm\n",
        "\n",
        "# define root directory\n",
        "ROOT = os.getcwd()\n",
        "print(ROOT)\n",
        "\n",
        "scenario = 'Scenario5'\n",
        "\n",
        "dataset_dir = os.path.join(ROOT,\"Vision\")\n",
        "scenario_dir = os.path.join(dataset_dir,scenario)\n",
        "development_dir = os.path.join(scenario_dir, \"development_dataset\")\n",
        "challenge_dir = os.path.join(scenario_dir, \"challenge_dataset\")"
      ],
      "metadata": {
        "id": "_N7iChCgZbn9"
      },
      "execution_count": null,
      "outputs": []
    },
    {
      "cell_type": "code",
      "source": [
        "import random\n",
        "\n",
        "seed = 42\n",
        "random.seed(seed)\n",
        "np.random.seed(seed)\n",
        "torch.manual_seed(seed)\n",
        "if torch.cuda.is_available() :\n",
        "    torch.cuda.manual_seed(seed)\n",
        "    torch.cuda.manual_seed_all(seed)\n",
        "torch.backends.cudnn.benchmark = False\n",
        "torch.backends.cudnn.deterministic = True"
      ],
      "metadata": {
        "id": "QOTBiE8gZiui"
      },
      "execution_count": 12,
      "outputs": []
    },
    {
      "cell_type": "code",
      "source": [
        "# load data\n",
        "\n",
        "import torchvision\n",
        "import torchvision.transforms as transforms\n",
        "from PIL import Image\n",
        "from torch.utils.data import DataLoader, Dataset\n",
        "import torchvision.transforms.functional as FT\n",
        "\n",
        "def transform(image, flag) :\n",
        "    mean = [0.485, 0.456, 0.406]\n",
        "    std =  [0.229, 0.224, 0.225]\n",
        "\n",
        "    if flag == 2 :      #test\n",
        "        new_image = FT.resize(image,224)\n",
        "        new_image = FT.to_tensor(new_image)\n",
        "        new_image = FT.normalize(new_image, mean=mean, std=std)\n",
        "    else :              #train, val\n",
        "        new_image = FT.resize(image,224)\n",
        "        new_image = FT.to_tensor(new_image)\n",
        "        new_image = FT.normalize(new_image, mean=mean, std=std)\n",
        "\n",
        "    return new_image\n",
        "\n",
        "class DeepSense6G(Dataset):\n",
        "    def __init__(self, data_folder, split, flag):\n",
        "        self.split = split\n",
        "        assert self.split in {'Scenario5','Scenario6','Scenario7','Scenario8','Scenario9'}\n",
        "\n",
        "        self.data_folder = data_folder\n",
        "        self.scenario_path = os.path.join(self.data_folder, split)\n",
        "        self.development_path = os.path.join(self.scenario_path, 'development_dataset')\n",
        "        self.challenge_path = os.path.join(self.scenario_path, 'challenge_dataset')\n",
        "\n",
        "        self.flag = flag\n",
        "\n",
        "        self.split = self.split.lower()\n",
        "        if flag == 0 :      #train\n",
        "            self.dataframe_path = os.path.join(self.development_path, self.split + '_dev_train.csv')\n",
        "        elif flag == 1 :    #validation\n",
        "            self.dataframe_path = os.path.join(self.development_path, self.split + '_dev_val.csv')\n",
        "        elif flag == 2 :              #test\n",
        "            self.dataframe_path = os.path.join(self.development_path, self.split + '_dev_test.csv')\n",
        "\n",
        "        self.dataframe = pd.read_csv(self.dataframe_path)\n",
        "\n",
        "        self.Images_path = self.dataframe['unit1_rgb_1'].values\n",
        "        self.Beam_index = self.dataframe['beam_index_1'].values\n",
        "        self.image_index = self.dataframe['index'].values\n",
        "        self.Beam_pwr_path = self.dataframe['unit1_pwr_1'].values\n",
        "\n",
        "    def __getitem__(self, i):\n",
        "\n",
        "        self.img_rel_path = self.Images_path[i]\n",
        "\n",
        "        if self.flag == 2 :     #test\n",
        "            self.img_abs_path = os.path.join(self.development_path, self.img_rel_path)\n",
        "        else :                  #train, validation\n",
        "            self.img_abs_path = os.path.join(self.development_path, self.img_rel_path)\n",
        "        \n",
        "        image = Image.open(self.img_abs_path, mode='r')\n",
        "        image = image.convert('RGB')\n",
        "\n",
        "        beam_index = self.Beam_index[i]\n",
        "\n",
        "        image = transform(image, self.flag)\n",
        "\n",
        "        return image, beam_index\n",
        "\n",
        "    def __len__(self):\n",
        "        return len(self.Images_path)"
      ],
      "metadata": {
        "id": "QRkBkqmhZkCc"
      },
      "execution_count": 13,
      "outputs": []
    },
    {
      "cell_type": "code",
      "source": [
        "# device initialize\n",
        "\n",
        "DEVICE = torch.device('cuda') if torch.cuda.is_available() else torch.device('cpu')\n",
        "print(DEVICE)"
      ],
      "metadata": {
        "id": "XiuwN3pUZn58"
      },
      "execution_count": null,
      "outputs": []
    },
    {
      "cell_type": "markdown",
      "source": [
        "## EfficientNet_v2"
      ],
      "metadata": {
        "id": "iMvsjYigZu1Z"
      }
    },
    {
      "cell_type": "code",
      "source": [
        "#!git clone https://github.com/hankyul2/EfficientNetV2-pytorch.git"
      ],
      "metadata": {
        "id": "3tqTkgygW9-0"
      },
      "execution_count": 15,
      "outputs": []
    },
    {
      "cell_type": "code",
      "source": [
        "%cd /content/drive/MyDrive/EfficientNetV2-pytorch"
      ],
      "metadata": {
        "id": "q-uXOzOzXIgE"
      },
      "execution_count": null,
      "outputs": []
    },
    {
      "cell_type": "code",
      "source": [
        "import torch\n",
        "\n",
        "model = torch.hub.load('hankyul2/EfficientNetV2-pytorch', 'efficientnet_v2_m_in21k', pretrained=True, nclass=64)\n",
        "model = model.to(DEVICE)\n",
        "print(model)"
      ],
      "metadata": {
        "id": "kXdAqkQsUPI0"
      },
      "execution_count": null,
      "outputs": []
    },
    {
      "cell_type": "code",
      "source": [
        "#training\n",
        "import time\n",
        "\n",
        "batch_size = 32\n",
        "scenario = 'Scenario5'\n",
        "\n",
        "train_dataset = DeepSense6G(dataset_dir, split=scenario, flag=0)\n",
        "val_dataset = DeepSense6G(dataset_dir, split=scenario, flag=1)\n",
        "\n",
        "train_loader = torch.utils.data.DataLoader(train_dataset, batch_size=batch_size, shuffle=True)\n",
        "val_loader = torch.utils.data.DataLoader(val_dataset, batch_size=1, shuffle=False) \n",
        "\n",
        "epochs = 50\n",
        "best_loss = 100\n",
        "\n",
        "optimizer = torch.optim.Adam(model.parameters(), lr=0.0001)\n",
        "loss = torch.nn.CrossEntropyLoss().cuda()\n",
        "\n",
        "train_acc_list = []\n",
        "val_acc_list = []\n",
        "\n",
        "for epoch in range(epochs) :\n",
        "    start = time.time()\n",
        "    print(f'Epoch {epoch}/{epochs}')\n",
        "\n",
        "    #train\n",
        "    train_loss = 0\n",
        "    correct = 0\n",
        "\n",
        "    model.train()\n",
        "    for img, bi in tqdm(train_loader) :\n",
        "\n",
        "        optimizer.zero_grad()\n",
        "        y_pred = model(img.cuda())\n",
        "        cost = loss(y_pred, bi.cuda())\n",
        "\n",
        "        cost.backward()\n",
        "        optimizer.step()\n",
        "        train_loss += cost.item()\n",
        "\n",
        "        pred = y_pred.data.max(1, keepdim=True)[1]\n",
        "        correct += pred.cpu().eq(bi.data.view_as(pred)).sum()\n",
        "\n",
        "    train_loss /= len(train_loader)\n",
        "    train_acc = correct / len(train_loader.dataset)\n",
        "    train_acc_list.append(train_acc)\n",
        "\n",
        "    #validate\n",
        "    val_loss = 0\n",
        "    val_correct = 0\n",
        "\n",
        "    with torch.no_grad() :\n",
        "        model.eval()\n",
        "        for img, bi in val_loader :\n",
        "            y_pred = model(img.cuda())\n",
        "            cost = loss(y_pred, bi.cuda())\n",
        "            val_loss += cost.item()\n",
        "\n",
        "            pred = y_pred.data.max(1, keepdim=True)[1]\n",
        "            val_correct += pred.cpu().eq(bi.data.view_as(pred)).cpu().sum()\n",
        "        \n",
        "        val_loss /= len(val_loader)\n",
        "        val_acc = val_correct / len(val_loader.dataset)\n",
        "        val_acc_list.append(val_acc)\n",
        "\n",
        "        if val_loss < best_loss :\n",
        "            torch.save({\n",
        "                'epoch' : epoch,\n",
        "                'model' : model,\n",
        "                'model_state_dict' : model.state_dict(),\n",
        "                'optimizer_state_dict' : optimizer.state_dict(),\n",
        "                'loss' : cost.item,\n",
        "            }, os.path.join(dataset_dir, scenario + '/checkpoint/effs_bestCheckpoint.pth'))\n",
        "\n",
        "            print(f'Epoch {epoch:05d}: val_loss improved from {best_loss:.5f} to {val_loss:.5f}, saving model to bestCheckPoint.pth')\n",
        "            best_loss = val_loss\n",
        "        else :\n",
        "            print(f'Epoch {epoch:05d}: val_loss did not improve')\n",
        "    print(f'{int(time.time() - start)}s - loss: {train_loss: .5f} - acc: {train_acc:.5f} - val_loss: {val_loss:.5f} - val_acc: {val_acc:.5f}')"
      ],
      "metadata": {
        "id": "ijJz1304n5pD"
      },
      "execution_count": null,
      "outputs": []
    },
    {
      "cell_type": "code",
      "source": [
        "## 저장되어있는 best checkpoint load\n",
        "\n",
        "best_model = torch.load(os.path.join(dataset_dir, scenario + '/checkpoint/effm_bestCheckpoint.pth'))['model'] \n",
        "best_model.load_state_dict(torch.load(os.path.join(dataset_dir, scenario + '/checkpoint/effm_bestCheckpoint.pth'))['model_state_dict'])  "
      ],
      "metadata": {
        "id": "iv63ASeFn9KL"
      },
      "execution_count": null,
      "outputs": []
    },
    {
      "cell_type": "code",
      "source": [
        "#test \n",
        "\n",
        "batch_size = 1\n",
        "\n",
        "test_dataset = DeepSense6G(dataset_dir, split=scenario, flag=2)\n",
        "\n",
        "test_loader = torch.utils.data.DataLoader(test_dataset, batch_size=batch_size, shuffle=True)\n",
        "\n",
        "correct = 0\n",
        "total = 0\n",
        "total_results = []\n",
        "gt = []\n",
        "\n",
        "def top_k (gts, preds, k) :\n",
        "    correct = 0\n",
        "\n",
        "    for i in range(len(preds)) :\n",
        "        gt = gts[i]\n",
        "        pred = preds[i]\n",
        "        correct += int(gt.item() in pred[:k])\n",
        "    \n",
        "    print(scenario, 'top', k, 'accuracy', 100 * correct / len(preds))\n",
        "\n",
        "def mse (gts, preds) :\n",
        "    mse = 0\n",
        "\n",
        "    for i in range(len(preds)) :\n",
        "        gt = gts[i].item()\n",
        "        pred = preds[i][0]\n",
        "        mse += (gt-pred)**2\n",
        "    \n",
        "    print(scenario, 'mse', mse/len(preds))\n",
        "\n",
        "with torch.no_grad() :\n",
        "    model.eval()\n",
        "    for img, bi in test_loader :\n",
        "        pred = model(img.cuda())\n",
        "        sorted_result_idx = np.flip(np.array(np.argsort(pred.cpu())[0]))\n",
        "        top3 = sorted_result_idx[:3]\n",
        "        total_results.append(top3)\n",
        "        gt.append(bi)\n",
        "\n",
        "top_k(gt, total_results, 1)\n",
        "top_k(gt, total_results, 2)\n",
        "top_k(gt, total_results, 3)\n",
        "mse(gt, total_results)"
      ],
      "metadata": {
        "id": "IJXMhS6In-Mo"
      },
      "execution_count": null,
      "outputs": []
    },
    {
      "cell_type": "code",
      "source": [],
      "metadata": {
        "id": "YeDn5RgWkvUV"
      },
      "execution_count": null,
      "outputs": []
    }
  ]
}