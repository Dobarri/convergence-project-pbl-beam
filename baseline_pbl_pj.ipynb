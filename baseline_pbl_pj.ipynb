{
  "nbformat": 4,
  "nbformat_minor": 0,
  "metadata": {
    "colab": {
      "provenance": []
    },
    "kernelspec": {
      "name": "python3",
      "display_name": "Python 3"
    },
    "language_info": {
      "name": "python"
    },
    "gpuClass": "standard",
    "accelerator": "GPU"
  },
  "cells": [
    {
      "cell_type": "code",
      "execution_count": 1,
      "metadata": {
        "colab": {
          "base_uri": "https://localhost:8080/"
        },
        "id": "Vi4DwFHuydxm",
        "outputId": "3a4f8fa8-3122-4ed0-b41d-3ba22b674659"
      },
      "outputs": [
        {
          "output_type": "stream",
          "name": "stdout",
          "text": [
            "Mounted at /content/drive\n"
          ]
        }
      ],
      "source": [
        "from google.colab import drive\n",
        "drive.mount('/content/drive')"
      ]
    },
    {
      "cell_type": "code",
      "source": [
        "%cd /content/drive/MyDrive"
      ],
      "metadata": {
        "colab": {
          "base_uri": "https://localhost:8080/"
        },
        "id": "7LBNDMbUzSjK",
        "outputId": "0900c188-51a0-4c5e-891f-61bc65b6dae1"
      },
      "execution_count": 2,
      "outputs": [
        {
          "output_type": "stream",
          "name": "stdout",
          "text": [
            "/content/drive/MyDrive\n"
          ]
        }
      ]
    },
    {
      "cell_type": "code",
      "source": [
        "import os\n",
        "import numpy as np\n",
        "import pandas as pd\n",
        "import torch\n",
        "import matplotlib.pyplot as plt\n",
        "from tqdm import tqdm\n",
        "\n",
        "# define root directory\n",
        "ROOT = os.getcwd()\n",
        "print(ROOT)\n",
        "\n",
        "dataset_dir = os.path.join(ROOT,\"Vision\")\n",
        "scenario_dir = os.path.join(dataset_dir,\"Scenario6\")\n",
        "development_dir = os.path.join(scenario_dir, \"development_dataset\")\n",
        "challenge_dir = os.path.join(scenario_dir, \"challenge_dataset\")"
      ],
      "metadata": {
        "colab": {
          "base_uri": "https://localhost:8080/"
        },
        "id": "PrDUsD32yvdf",
        "outputId": "cb7f44dc-01b2-43b6-8e40-0755125c199e"
      },
      "execution_count": 3,
      "outputs": [
        {
          "output_type": "stream",
          "name": "stdout",
          "text": [
            "/content/drive/MyDrive\n"
          ]
        }
      ]
    },
    {
      "cell_type": "code",
      "source": [
        "import random\n",
        "\n",
        "seed = 42\n",
        "random.seed(seed)\n",
        "np.random.seed(seed)\n",
        "torch.manual_seed(seed)\n",
        "if torch.cuda.is_available() :\n",
        "    torch.cuda.manual_seed(seed)\n",
        "    torch.cuda.manual_seed_all(seed)\n",
        "torch.backends.cudnn.benchmark = False\n",
        "torch.backends.cudnn.deterministic = True"
      ],
      "metadata": {
        "id": "YOWvdJq40PzS"
      },
      "execution_count": 4,
      "outputs": []
    },
    {
      "cell_type": "code",
      "source": [
        "# load data\n",
        "\n",
        "import torchvision\n",
        "import torchvision.transforms as transforms\n",
        "from PIL import Image\n",
        "from torch.utils.data import DataLoader, Dataset\n",
        "import torchvision.transforms.functional as FT\n",
        "\n",
        "def transform(image, flag) :\n",
        "    mean = [0.485, 0.456, 0.406]\n",
        "    std =  [0.229, 0.224, 0.225]\n",
        "\n",
        "    if flag == 2 :      #test\n",
        "        new_image = FT.resize(image,224)\n",
        "        new_image = FT.to_tensor(new_image)\n",
        "        new_image = FT.normalize(new_image, mean=mean, std=std)\n",
        "    else :              #train, val\n",
        "        new_image = FT.resize(image,224)\n",
        "        new_image = FT.to_tensor(new_image)\n",
        "        new_image = FT.normalize(new_image, mean=mean, std=std)\n",
        "\n",
        "    return new_image\n",
        "\n",
        "class DeepSense6G(Dataset):\n",
        "    def __init__(self, data_folder, split, flag):\n",
        "        self.split = split\n",
        "        assert self.split in {'Scenario5','Scenario6','Scenario7','Scenario8','Scenario9'}\n",
        "\n",
        "        self.data_folder = data_folder\n",
        "        self.scenario_path = os.path.join(self.data_folder, split)\n",
        "        self.development_path = os.path.join(self.scenario_path, 'development_dataset')\n",
        "        self.challenge_path = os.path.join(self.scenario_path, 'challenge_dataset')\n",
        "\n",
        "        self.flag = flag\n",
        "\n",
        "        self.split = self.split.lower()\n",
        "        if flag == 0 :      #train\n",
        "            self.dataframe_path = os.path.join(self.development_path, self.split + '_dev_train.csv')\n",
        "        elif flag == 1 :    #validation\n",
        "            self.dataframe_path = os.path.join(self.development_path, self.split + '_dev_val.csv')\n",
        "        elif flag == 2 :              #test\n",
        "            self.dataframe_path = os.path.join(self.development_path, self.split + '_dev_test.csv')\n",
        "\n",
        "        self.dataframe = pd.read_csv(self.dataframe_path)\n",
        "\n",
        "        self.Images_path = self.dataframe['unit1_rgb_1'].values\n",
        "        self.Beam_index = self.dataframe['beam_index_1'].values\n",
        "        self.image_index = self.dataframe['index'].values\n",
        "        self.Beam_pwr_path = self.dataframe['unit1_pwr_1'].values\n",
        "\n",
        "    def __getitem__(self, i):\n",
        "\n",
        "        self.img_rel_path = self.Images_path[i]\n",
        "\n",
        "        if self.flag == 2 :     #test\n",
        "            self.img_abs_path = os.path.join(self.development_path, self.img_rel_path)\n",
        "        else :                  #train, validation\n",
        "            self.img_abs_path = os.path.join(self.development_path, self.img_rel_path)\n",
        "        \n",
        "        image = Image.open(self.img_abs_path, mode='r')\n",
        "        image = image.convert('RGB')\n",
        "\n",
        "        beam_index = self.Beam_index[i]\n",
        "\n",
        "        image = transform(image, self.flag)\n",
        "\n",
        "        return image, beam_index\n",
        "\n",
        "    def __len__(self):\n",
        "        return len(self.Images_path)\n",
        "\n",
        "    # def _collate_fn(self, batch_size) :\n",
        "\n",
        "    #     images = list()\n",
        "    #     beam_indexes = list()\n",
        "\n",
        "    #     for b in batch_size :\n",
        "    #         images.append(b[0])\n",
        "    #         beam_indexes.append(b[1])\n",
        "\n",
        "    #     images = torch.stack(images, dim=0)\n",
        "\n",
        "    #     return images, beam_indexes"
      ],
      "metadata": {
        "id": "8PP1GsMt1QQ7"
      },
      "execution_count": 10,
      "outputs": []
    },
    {
      "cell_type": "code",
      "source": [
        "# device initialize\n",
        "\n",
        "DEVICE = torch.device('cuda') if torch.cuda.is_available() else torch.device('cpu')\n",
        "print(DEVICE)"
      ],
      "metadata": {
        "colab": {
          "base_uri": "https://localhost:8080/"
        },
        "id": "pCxjwpy0zQeH",
        "outputId": "ca4b5c48-a787-4bdd-b526-5cbfba5dd7da"
      },
      "execution_count": 11,
      "outputs": [
        {
          "output_type": "stream",
          "name": "stdout",
          "text": [
            "cuda\n"
          ]
        }
      ]
    },
    {
      "cell_type": "code",
      "source": [
        "# pre-trained model(ResNet50)\n",
        "\n",
        "from torchvision import models\n",
        "\n",
        "resnet50 = models.resnet50(pretrained=True)\n",
        "num_ftrs = resnet50.fc.in_features\n",
        "resnet50.fc = torch.nn.Linear(num_ftrs, 64)\n",
        "\n",
        "model = resnet50.to(DEVICE)"
      ],
      "metadata": {
        "colab": {
          "base_uri": "https://localhost:8080/"
        },
        "id": "QoPPmsHzB1sW",
        "outputId": "b8a6effc-8c55-4cb2-ea5c-6d78c24f278a"
      },
      "execution_count": 12,
      "outputs": [
        {
          "output_type": "stream",
          "name": "stderr",
          "text": [
            "/usr/local/lib/python3.9/dist-packages/torchvision/models/_utils.py:208: UserWarning: The parameter 'pretrained' is deprecated since 0.13 and may be removed in the future, please use 'weights' instead.\n",
            "  warnings.warn(\n",
            "/usr/local/lib/python3.9/dist-packages/torchvision/models/_utils.py:223: UserWarning: Arguments other than a weight enum or `None` for 'weights' are deprecated since 0.13 and may be removed in the future. The current behavior is equivalent to passing `weights=ResNet50_Weights.IMAGENET1K_V1`. You can also use `weights=ResNet50_Weights.DEFAULT` to get the most up-to-date weights.\n",
            "  warnings.warn(msg)\n"
          ]
        }
      ]
    },
    {
      "cell_type": "code",
      "source": [
        "# #%pip install torchsummary  #model summary\n",
        "# from torchsummary import summary \n",
        "\n",
        "# def summary_model(model, input_shape=(3,224,224)) :\n",
        "#     model = model.cuda()\n",
        "#     summary(model, input_shape)\n",
        "\n",
        "# print(model)\n",
        "# summary_model(model)"
      ],
      "metadata": {
        "id": "7AJvKJRpHqQI"
      },
      "execution_count": 13,
      "outputs": []
    },
    {
      "cell_type": "code",
      "source": [
        "#training\n",
        "import time\n",
        "\n",
        "batch_size = 32\n",
        "scenario = 'Scenario6'\n",
        "\n",
        "train_dataset = DeepSense6G(dataset_dir, split=scenario, flag=0)\n",
        "val_dataset = DeepSense6G(dataset_dir, split=scenario, flag=1)\n",
        "\n",
        "train_loader = torch.utils.data.DataLoader(train_dataset, batch_size=batch_size, shuffle=True)\n",
        "val_loader = torch.utils.data.DataLoader(val_dataset, batch_size=1, shuffle=False) \n",
        "\n",
        "epochs = 25\n",
        "best_loss = 100\n",
        "\n",
        "optimizer = torch.optim.Adam(model.parameters(), lr=0.0001)\n",
        "loss = torch.nn.CrossEntropyLoss().cuda()\n",
        "\n",
        "train_acc_list = []\n",
        "val_acc_list = []\n",
        "\n",
        "for epoch in range(epochs) :\n",
        "    start = time.time()\n",
        "    print(f'Epoch {epoch}/{epochs}')\n",
        "\n",
        "    #train\n",
        "    train_loss = 0\n",
        "    correct = 0\n",
        "\n",
        "    model.train()\n",
        "    for img, bi in tqdm(train_loader) :\n",
        "\n",
        "        optimizer.zero_grad()\n",
        "        y_pred = model(img.cuda())\n",
        "        cost = loss(y_pred, bi.cuda())\n",
        "\n",
        "        cost.backward()\n",
        "        optimizer.step()\n",
        "        train_loss += cost.item()\n",
        "\n",
        "        pred = y_pred.data.max(1, keepdim=True)[1]\n",
        "        correct += pred.cpu().eq(bi.data.view_as(pred)).sum()\n",
        "\n",
        "    train_loss /= len(train_loader)\n",
        "    train_acc = correct / len(train_loader.dataset)\n",
        "    train_acc_list.append(train_acc)\n",
        "\n",
        "    #validate\n",
        "    val_loss = 0\n",
        "    val_correct = 0\n",
        "\n",
        "    with torch.no_grad() :\n",
        "        model.eval()\n",
        "        for img, bi in val_loader :\n",
        "            y_pred = model(img.cuda())\n",
        "            cost = loss(y_pred, bi.cuda())\n",
        "            val_loss += cost.item()\n",
        "\n",
        "            pred = y_pred.data.max(1, keepdim=True)[1]\n",
        "            val_correct += pred.cpu().eq(bi.data.view_as(pred)).cpu().sum()\n",
        "        \n",
        "        val_loss /= len(val_loader)\n",
        "        val_acc = val_correct / len(val_loader.dataset)\n",
        "        val_acc_list.append(val_acc)\n",
        "\n",
        "        if val_loss < best_loss :\n",
        "            torch.save({\n",
        "                'epoch' : epoch,\n",
        "                'model' : model,\n",
        "                'model_state_dict' : model.state_dict(),\n",
        "                'optimizer_state_dict' : optimizer.state_dict(),\n",
        "                'loss' : cost.item,\n",
        "            }, os.path.join(dataset_dir, scenario + '/checkpoint/bestCheckpoint.pth'))\n",
        "\n",
        "            print(f'Epoch {epoch:05d}: val_loss improved from {best_loss:.5f} to {val_loss:.5f}, saving model to bestCheckPoint.pth')\n",
        "            best_loss = val_loss\n",
        "        else :\n",
        "            print(f'Epoch {epoch:05d}: val_loss did not improve')\n",
        "    print(f'{int(time.time() - start)}s - loss: {train_loss: .5f} - acc: {train_acc:.5f} - val_loss: {val_loss:.5f} - val_acc: {val_acc:.5f}')"
      ],
      "metadata": {
        "colab": {
          "base_uri": "https://localhost:8080/"
        },
        "id": "WIy1E3Z4H9nX",
        "outputId": "a4b6ff4c-7dac-4132-e3ee-03f31d99df36"
      },
      "execution_count": 14,
      "outputs": [
        {
          "output_type": "stream",
          "name": "stdout",
          "text": [
            "Epoch 0/25\n"
          ]
        },
        {
          "output_type": "stream",
          "name": "stderr",
          "text": [
            "100%|██████████| 21/21 [02:06<00:00,  6.00s/it]\n"
          ]
        },
        {
          "output_type": "stream",
          "name": "stdout",
          "text": [
            "Epoch 00000: val_loss improved from 100.00000 to 3.26068, saving model to bestCheckPoint.pth\n",
            "163s - loss:  3.91291 - acc: 0.10413 - val_loss: 3.26068 - val_acc: 0.31633\n",
            "Epoch 1/25\n"
          ]
        },
        {
          "output_type": "stream",
          "name": "stderr",
          "text": [
            "100%|██████████| 21/21 [00:26<00:00,  1.25s/it]\n"
          ]
        },
        {
          "output_type": "stream",
          "name": "stdout",
          "text": [
            "Epoch 00001: val_loss improved from 3.26068 to 2.38819, saving model to bestCheckPoint.pth\n",
            "30s - loss:  2.91780 - acc: 0.34303 - val_loss: 2.38819 - val_acc: 0.36735\n",
            "Epoch 2/25\n"
          ]
        },
        {
          "output_type": "stream",
          "name": "stderr",
          "text": [
            "100%|██████████| 21/21 [00:26<00:00,  1.24s/it]\n"
          ]
        },
        {
          "output_type": "stream",
          "name": "stdout",
          "text": [
            "Epoch 00002: val_loss improved from 2.38819 to 2.14533, saving model to bestCheckPoint.pth\n",
            "30s - loss:  2.17354 - acc: 0.40276 - val_loss: 2.14533 - val_acc: 0.37755\n",
            "Epoch 3/25\n"
          ]
        },
        {
          "output_type": "stream",
          "name": "stderr",
          "text": [
            "100%|██████████| 21/21 [00:26<00:00,  1.24s/it]\n"
          ]
        },
        {
          "output_type": "stream",
          "name": "stdout",
          "text": [
            "Epoch 00003: val_loss improved from 2.14533 to 1.91136, saving model to bestCheckPoint.pth\n",
            "30s - loss:  1.71497 - acc: 0.50995 - val_loss: 1.91136 - val_acc: 0.45918\n",
            "Epoch 4/25\n"
          ]
        },
        {
          "output_type": "stream",
          "name": "stderr",
          "text": [
            "100%|██████████| 21/21 [00:26<00:00,  1.25s/it]\n"
          ]
        },
        {
          "output_type": "stream",
          "name": "stdout",
          "text": [
            "Epoch 00004: val_loss improved from 1.91136 to 1.75240, saving model to bestCheckPoint.pth\n",
            "30s - loss:  1.44806 - acc: 0.53752 - val_loss: 1.75240 - val_acc: 0.44898\n",
            "Epoch 5/25\n"
          ]
        },
        {
          "output_type": "stream",
          "name": "stderr",
          "text": [
            "100%|██████████| 21/21 [00:26<00:00,  1.25s/it]\n"
          ]
        },
        {
          "output_type": "stream",
          "name": "stdout",
          "text": [
            "Epoch 00005: val_loss improved from 1.75240 to 1.66057, saving model to bestCheckPoint.pth\n",
            "29s - loss:  1.25633 - acc: 0.58959 - val_loss: 1.66057 - val_acc: 0.44898\n",
            "Epoch 6/25\n"
          ]
        },
        {
          "output_type": "stream",
          "name": "stderr",
          "text": [
            "100%|██████████| 21/21 [00:25<00:00,  1.24s/it]\n"
          ]
        },
        {
          "output_type": "stream",
          "name": "stdout",
          "text": [
            "Epoch 00006: val_loss did not improve\n",
            "28s - loss:  1.09078 - acc: 0.62481 - val_loss: 1.84361 - val_acc: 0.39796\n",
            "Epoch 7/25\n"
          ]
        },
        {
          "output_type": "stream",
          "name": "stderr",
          "text": [
            "100%|██████████| 21/21 [00:26<00:00,  1.24s/it]\n"
          ]
        },
        {
          "output_type": "stream",
          "name": "stdout",
          "text": [
            "Epoch 00007: val_loss did not improve\n",
            "29s - loss:  0.99226 - acc: 0.64319 - val_loss: 1.83772 - val_acc: 0.42857\n",
            "Epoch 8/25\n"
          ]
        },
        {
          "output_type": "stream",
          "name": "stderr",
          "text": [
            "100%|██████████| 21/21 [00:25<00:00,  1.22s/it]\n"
          ]
        },
        {
          "output_type": "stream",
          "name": "stdout",
          "text": [
            "Epoch 00008: val_loss did not improve\n",
            "29s - loss:  0.87952 - acc: 0.70750 - val_loss: 1.76742 - val_acc: 0.45918\n",
            "Epoch 9/25\n"
          ]
        },
        {
          "output_type": "stream",
          "name": "stderr",
          "text": [
            "100%|██████████| 21/21 [00:25<00:00,  1.21s/it]\n"
          ]
        },
        {
          "output_type": "stream",
          "name": "stdout",
          "text": [
            "Epoch 00009: val_loss did not improve\n",
            "28s - loss:  0.82546 - acc: 0.73660 - val_loss: 2.03088 - val_acc: 0.33673\n",
            "Epoch 10/25\n"
          ]
        },
        {
          "output_type": "stream",
          "name": "stderr",
          "text": [
            "100%|██████████| 21/21 [00:25<00:00,  1.21s/it]\n"
          ]
        },
        {
          "output_type": "stream",
          "name": "stdout",
          "text": [
            "Epoch 00010: val_loss did not improve\n",
            "28s - loss:  0.72322 - acc: 0.76723 - val_loss: 1.96975 - val_acc: 0.36735\n",
            "Epoch 11/25\n"
          ]
        },
        {
          "output_type": "stream",
          "name": "stderr",
          "text": [
            "100%|██████████| 21/21 [00:25<00:00,  1.21s/it]\n"
          ]
        },
        {
          "output_type": "stream",
          "name": "stdout",
          "text": [
            "Epoch 00011: val_loss did not improve\n",
            "28s - loss:  0.62504 - acc: 0.81623 - val_loss: 1.88261 - val_acc: 0.41837\n",
            "Epoch 12/25\n"
          ]
        },
        {
          "output_type": "stream",
          "name": "stderr",
          "text": [
            "100%|██████████| 21/21 [00:25<00:00,  1.20s/it]\n"
          ]
        },
        {
          "output_type": "stream",
          "name": "stdout",
          "text": [
            "Epoch 00012: val_loss did not improve\n",
            "28s - loss:  0.52370 - acc: 0.84839 - val_loss: 2.25080 - val_acc: 0.33673\n",
            "Epoch 13/25\n"
          ]
        },
        {
          "output_type": "stream",
          "name": "stderr",
          "text": [
            "100%|██████████| 21/21 [00:26<00:00,  1.24s/it]\n"
          ]
        },
        {
          "output_type": "stream",
          "name": "stdout",
          "text": [
            "Epoch 00013: val_loss did not improve\n",
            "28s - loss:  0.43514 - acc: 0.87443 - val_loss: 2.13952 - val_acc: 0.39796\n",
            "Epoch 14/25\n"
          ]
        },
        {
          "output_type": "stream",
          "name": "stderr",
          "text": [
            "100%|██████████| 21/21 [00:25<00:00,  1.22s/it]\n"
          ]
        },
        {
          "output_type": "stream",
          "name": "stdout",
          "text": [
            "Epoch 00014: val_loss did not improve\n",
            "28s - loss:  0.34578 - acc: 0.91424 - val_loss: 2.07775 - val_acc: 0.39796\n",
            "Epoch 15/25\n"
          ]
        },
        {
          "output_type": "stream",
          "name": "stderr",
          "text": [
            "100%|██████████| 21/21 [00:25<00:00,  1.22s/it]\n"
          ]
        },
        {
          "output_type": "stream",
          "name": "stdout",
          "text": [
            "Epoch 00015: val_loss did not improve\n",
            "28s - loss:  0.29581 - acc: 0.91271 - val_loss: 2.13393 - val_acc: 0.42857\n",
            "Epoch 16/25\n"
          ]
        },
        {
          "output_type": "stream",
          "name": "stderr",
          "text": [
            "100%|██████████| 21/21 [00:25<00:00,  1.22s/it]\n"
          ]
        },
        {
          "output_type": "stream",
          "name": "stdout",
          "text": [
            "Epoch 00016: val_loss did not improve\n",
            "28s - loss:  0.27621 - acc: 0.93262 - val_loss: 2.31433 - val_acc: 0.40816\n",
            "Epoch 17/25\n"
          ]
        },
        {
          "output_type": "stream",
          "name": "stderr",
          "text": [
            "100%|██████████| 21/21 [00:25<00:00,  1.20s/it]\n"
          ]
        },
        {
          "output_type": "stream",
          "name": "stdout",
          "text": [
            "Epoch 00017: val_loss did not improve\n",
            "28s - loss:  0.24310 - acc: 0.94793 - val_loss: 2.11399 - val_acc: 0.45918\n",
            "Epoch 18/25\n"
          ]
        },
        {
          "output_type": "stream",
          "name": "stderr",
          "text": [
            "100%|██████████| 21/21 [00:25<00:00,  1.20s/it]\n"
          ]
        },
        {
          "output_type": "stream",
          "name": "stdout",
          "text": [
            "Epoch 00018: val_loss did not improve\n",
            "28s - loss:  0.23809 - acc: 0.93874 - val_loss: 2.41495 - val_acc: 0.37755\n",
            "Epoch 19/25\n"
          ]
        },
        {
          "output_type": "stream",
          "name": "stderr",
          "text": [
            "100%|██████████| 21/21 [00:25<00:00,  1.19s/it]\n"
          ]
        },
        {
          "output_type": "stream",
          "name": "stdout",
          "text": [
            "Epoch 00019: val_loss did not improve\n",
            "29s - loss:  0.16104 - acc: 0.97550 - val_loss: 2.33650 - val_acc: 0.39796\n",
            "Epoch 20/25\n"
          ]
        },
        {
          "output_type": "stream",
          "name": "stderr",
          "text": [
            "100%|██████████| 21/21 [00:25<00:00,  1.20s/it]\n"
          ]
        },
        {
          "output_type": "stream",
          "name": "stdout",
          "text": [
            "Epoch 00020: val_loss did not improve\n",
            "28s - loss:  0.12849 - acc: 0.98009 - val_loss: 2.15122 - val_acc: 0.42857\n",
            "Epoch 21/25\n"
          ]
        },
        {
          "output_type": "stream",
          "name": "stderr",
          "text": [
            "100%|██████████| 21/21 [00:25<00:00,  1.20s/it]\n"
          ]
        },
        {
          "output_type": "stream",
          "name": "stdout",
          "text": [
            "Epoch 00021: val_loss did not improve\n",
            "28s - loss:  0.07908 - acc: 0.99234 - val_loss: 2.61004 - val_acc: 0.37755\n",
            "Epoch 22/25\n"
          ]
        },
        {
          "output_type": "stream",
          "name": "stderr",
          "text": [
            "100%|██████████| 21/21 [00:25<00:00,  1.20s/it]\n"
          ]
        },
        {
          "output_type": "stream",
          "name": "stdout",
          "text": [
            "Epoch 00022: val_loss did not improve\n",
            "28s - loss:  0.05687 - acc: 0.99387 - val_loss: 2.39977 - val_acc: 0.43878\n",
            "Epoch 23/25\n"
          ]
        },
        {
          "output_type": "stream",
          "name": "stderr",
          "text": [
            "100%|██████████| 21/21 [00:25<00:00,  1.20s/it]\n"
          ]
        },
        {
          "output_type": "stream",
          "name": "stdout",
          "text": [
            "Epoch 00023: val_loss did not improve\n",
            "27s - loss:  0.06066 - acc: 0.99541 - val_loss: 2.46967 - val_acc: 0.39796\n",
            "Epoch 24/25\n"
          ]
        },
        {
          "output_type": "stream",
          "name": "stderr",
          "text": [
            "100%|██████████| 21/21 [00:25<00:00,  1.20s/it]\n"
          ]
        },
        {
          "output_type": "stream",
          "name": "stdout",
          "text": [
            "Epoch 00024: val_loss did not improve\n",
            "28s - loss:  0.05195 - acc: 0.99234 - val_loss: 2.53076 - val_acc: 0.40816\n"
          ]
        }
      ]
    },
    {
      "cell_type": "markdown",
      "source": [],
      "metadata": {
        "id": "P9BPvkn4QQmb"
      }
    },
    {
      "cell_type": "code",
      "source": [
        "## 저장되어있는 best checkpoint load\n",
        "\n",
        "best_model = torch.load(os.path.join(dataset_dir, scenario + '/checkpoint/bestCheckpoint.pth'))['model'] \n",
        "best_model.load_state_dict(torch.load(os.path.join(dataset_dir, scenario + '/checkpoint/bestCheckpoint.pth'))['model_state_dict'])  "
      ],
      "metadata": {
        "colab": {
          "base_uri": "https://localhost:8080/"
        },
        "id": "8mJFX9kGj5rg",
        "outputId": "b3eef168-bc97-4071-c971-0ee9615afc1b"
      },
      "execution_count": 15,
      "outputs": [
        {
          "output_type": "execute_result",
          "data": {
            "text/plain": [
              "<All keys matched successfully>"
            ]
          },
          "metadata": {},
          "execution_count": 15
        }
      ]
    },
    {
      "cell_type": "code",
      "source": [
        "#test \n",
        "test_dataset = DeepSense6G(dataset_dir, split=scenario, flag=2)\n",
        "\n",
        "test_loader = torch.utils.data.DataLoader(test_dataset, batch_size=batch_size, shuffle=True)\n",
        "\n",
        "correct = 0\n",
        "total = 0\n",
        "\n",
        "with torch.no_grad() :\n",
        "    model.eval()\n",
        "    for img, bi in test_loader :\n",
        "        pred = model(img.cuda())\n",
        "        _, predicted = torch.max(pred.data, 1)\n",
        "        total += bi.size(0)\n",
        "        correct += (predicted == bi.cuda()).sum().item()\n",
        "\n",
        "print(scenario,'accuracy:', 100 * correct / total)"
      ],
      "metadata": {
        "id": "TfT2xNwEOF15",
        "colab": {
          "base_uri": "https://localhost:8080/"
        },
        "outputId": "6805960a-dd45-40e9-fdba-169ae2d60da3"
      },
      "execution_count": 21,
      "outputs": [
        {
          "output_type": "stream",
          "name": "stdout",
          "text": [
            "Scenario6 accuracy: 52.4390243902439\n"
          ]
        }
      ]
    },
    {
      "cell_type": "code",
      "source": [],
      "metadata": {
        "id": "soqkwzFVbDuo"
      },
      "execution_count": null,
      "outputs": []
    }
  ]
}