{
  "nbformat": 4,
  "nbformat_minor": 0,
  "metadata": {
    "colab": {
      "provenance": []
    },
    "kernelspec": {
      "name": "python3",
      "display_name": "Python 3"
    },
    "language_info": {
      "name": "python"
    },
    "gpuClass": "standard",
    "accelerator": "GPU",
    "widgets": {
      "application/vnd.jupyter.widget-state+json": {
        "b24780351a2b402d80ec8a6e5eb98791": {
          "model_module": "@jupyter-widgets/controls",
          "model_name": "HBoxModel",
          "model_module_version": "1.5.0",
          "state": {
            "_dom_classes": [],
            "_model_module": "@jupyter-widgets/controls",
            "_model_module_version": "1.5.0",
            "_model_name": "HBoxModel",
            "_view_count": null,
            "_view_module": "@jupyter-widgets/controls",
            "_view_module_version": "1.5.0",
            "_view_name": "HBoxView",
            "box_style": "",
            "children": [
              "IPY_MODEL_53739a99e912484dbe91d08f4e795a08",
              "IPY_MODEL_5fbecbbacbc34c94baa5c51a1359c8c8",
              "IPY_MODEL_856d0d6ca24c423f9bc827e6e741ae29"
            ],
            "layout": "IPY_MODEL_e68efc8ffced4b1d8d288dfc8c71899e"
          }
        },
        "53739a99e912484dbe91d08f4e795a08": {
          "model_module": "@jupyter-widgets/controls",
          "model_name": "HTMLModel",
          "model_module_version": "1.5.0",
          "state": {
            "_dom_classes": [],
            "_model_module": "@jupyter-widgets/controls",
            "_model_module_version": "1.5.0",
            "_model_name": "HTMLModel",
            "_view_count": null,
            "_view_module": "@jupyter-widgets/controls",
            "_view_module_version": "1.5.0",
            "_view_name": "HTMLView",
            "description": "",
            "description_tooltip": null,
            "layout": "IPY_MODEL_9f9e0f4bd2c84466a5d7fe2dcff6a4af",
            "placeholder": "​",
            "style": "IPY_MODEL_af018e0ef19f467b821fa9363dacc367",
            "value": "100%"
          }
        },
        "5fbecbbacbc34c94baa5c51a1359c8c8": {
          "model_module": "@jupyter-widgets/controls",
          "model_name": "FloatProgressModel",
          "model_module_version": "1.5.0",
          "state": {
            "_dom_classes": [],
            "_model_module": "@jupyter-widgets/controls",
            "_model_module_version": "1.5.0",
            "_model_name": "FloatProgressModel",
            "_view_count": null,
            "_view_module": "@jupyter-widgets/controls",
            "_view_module_version": "1.5.0",
            "_view_name": "ProgressView",
            "bar_style": "success",
            "description": "",
            "description_tooltip": null,
            "layout": "IPY_MODEL_8f40b1ca67a241bbaecddbbc959c5587",
            "max": 102530333,
            "min": 0,
            "orientation": "horizontal",
            "style": "IPY_MODEL_2f56c44e89c548a4a43a3720cbb09f47",
            "value": 102530333
          }
        },
        "856d0d6ca24c423f9bc827e6e741ae29": {
          "model_module": "@jupyter-widgets/controls",
          "model_name": "HTMLModel",
          "model_module_version": "1.5.0",
          "state": {
            "_dom_classes": [],
            "_model_module": "@jupyter-widgets/controls",
            "_model_module_version": "1.5.0",
            "_model_name": "HTMLModel",
            "_view_count": null,
            "_view_module": "@jupyter-widgets/controls",
            "_view_module_version": "1.5.0",
            "_view_name": "HTMLView",
            "description": "",
            "description_tooltip": null,
            "layout": "IPY_MODEL_b5a660b773a844c68a54a396d98d2da2",
            "placeholder": "​",
            "style": "IPY_MODEL_3e70b5e784bc4bb7a653f66b6bd9bacc",
            "value": " 97.8M/97.8M [00:00&lt;00:00, 191MB/s]"
          }
        },
        "e68efc8ffced4b1d8d288dfc8c71899e": {
          "model_module": "@jupyter-widgets/base",
          "model_name": "LayoutModel",
          "model_module_version": "1.2.0",
          "state": {
            "_model_module": "@jupyter-widgets/base",
            "_model_module_version": "1.2.0",
            "_model_name": "LayoutModel",
            "_view_count": null,
            "_view_module": "@jupyter-widgets/base",
            "_view_module_version": "1.2.0",
            "_view_name": "LayoutView",
            "align_content": null,
            "align_items": null,
            "align_self": null,
            "border": null,
            "bottom": null,
            "display": null,
            "flex": null,
            "flex_flow": null,
            "grid_area": null,
            "grid_auto_columns": null,
            "grid_auto_flow": null,
            "grid_auto_rows": null,
            "grid_column": null,
            "grid_gap": null,
            "grid_row": null,
            "grid_template_areas": null,
            "grid_template_columns": null,
            "grid_template_rows": null,
            "height": null,
            "justify_content": null,
            "justify_items": null,
            "left": null,
            "margin": null,
            "max_height": null,
            "max_width": null,
            "min_height": null,
            "min_width": null,
            "object_fit": null,
            "object_position": null,
            "order": null,
            "overflow": null,
            "overflow_x": null,
            "overflow_y": null,
            "padding": null,
            "right": null,
            "top": null,
            "visibility": null,
            "width": null
          }
        },
        "9f9e0f4bd2c84466a5d7fe2dcff6a4af": {
          "model_module": "@jupyter-widgets/base",
          "model_name": "LayoutModel",
          "model_module_version": "1.2.0",
          "state": {
            "_model_module": "@jupyter-widgets/base",
            "_model_module_version": "1.2.0",
            "_model_name": "LayoutModel",
            "_view_count": null,
            "_view_module": "@jupyter-widgets/base",
            "_view_module_version": "1.2.0",
            "_view_name": "LayoutView",
            "align_content": null,
            "align_items": null,
            "align_self": null,
            "border": null,
            "bottom": null,
            "display": null,
            "flex": null,
            "flex_flow": null,
            "grid_area": null,
            "grid_auto_columns": null,
            "grid_auto_flow": null,
            "grid_auto_rows": null,
            "grid_column": null,
            "grid_gap": null,
            "grid_row": null,
            "grid_template_areas": null,
            "grid_template_columns": null,
            "grid_template_rows": null,
            "height": null,
            "justify_content": null,
            "justify_items": null,
            "left": null,
            "margin": null,
            "max_height": null,
            "max_width": null,
            "min_height": null,
            "min_width": null,
            "object_fit": null,
            "object_position": null,
            "order": null,
            "overflow": null,
            "overflow_x": null,
            "overflow_y": null,
            "padding": null,
            "right": null,
            "top": null,
            "visibility": null,
            "width": null
          }
        },
        "af018e0ef19f467b821fa9363dacc367": {
          "model_module": "@jupyter-widgets/controls",
          "model_name": "DescriptionStyleModel",
          "model_module_version": "1.5.0",
          "state": {
            "_model_module": "@jupyter-widgets/controls",
            "_model_module_version": "1.5.0",
            "_model_name": "DescriptionStyleModel",
            "_view_count": null,
            "_view_module": "@jupyter-widgets/base",
            "_view_module_version": "1.2.0",
            "_view_name": "StyleView",
            "description_width": ""
          }
        },
        "8f40b1ca67a241bbaecddbbc959c5587": {
          "model_module": "@jupyter-widgets/base",
          "model_name": "LayoutModel",
          "model_module_version": "1.2.0",
          "state": {
            "_model_module": "@jupyter-widgets/base",
            "_model_module_version": "1.2.0",
            "_model_name": "LayoutModel",
            "_view_count": null,
            "_view_module": "@jupyter-widgets/base",
            "_view_module_version": "1.2.0",
            "_view_name": "LayoutView",
            "align_content": null,
            "align_items": null,
            "align_self": null,
            "border": null,
            "bottom": null,
            "display": null,
            "flex": null,
            "flex_flow": null,
            "grid_area": null,
            "grid_auto_columns": null,
            "grid_auto_flow": null,
            "grid_auto_rows": null,
            "grid_column": null,
            "grid_gap": null,
            "grid_row": null,
            "grid_template_areas": null,
            "grid_template_columns": null,
            "grid_template_rows": null,
            "height": null,
            "justify_content": null,
            "justify_items": null,
            "left": null,
            "margin": null,
            "max_height": null,
            "max_width": null,
            "min_height": null,
            "min_width": null,
            "object_fit": null,
            "object_position": null,
            "order": null,
            "overflow": null,
            "overflow_x": null,
            "overflow_y": null,
            "padding": null,
            "right": null,
            "top": null,
            "visibility": null,
            "width": null
          }
        },
        "2f56c44e89c548a4a43a3720cbb09f47": {
          "model_module": "@jupyter-widgets/controls",
          "model_name": "ProgressStyleModel",
          "model_module_version": "1.5.0",
          "state": {
            "_model_module": "@jupyter-widgets/controls",
            "_model_module_version": "1.5.0",
            "_model_name": "ProgressStyleModel",
            "_view_count": null,
            "_view_module": "@jupyter-widgets/base",
            "_view_module_version": "1.2.0",
            "_view_name": "StyleView",
            "bar_color": null,
            "description_width": ""
          }
        },
        "b5a660b773a844c68a54a396d98d2da2": {
          "model_module": "@jupyter-widgets/base",
          "model_name": "LayoutModel",
          "model_module_version": "1.2.0",
          "state": {
            "_model_module": "@jupyter-widgets/base",
            "_model_module_version": "1.2.0",
            "_model_name": "LayoutModel",
            "_view_count": null,
            "_view_module": "@jupyter-widgets/base",
            "_view_module_version": "1.2.0",
            "_view_name": "LayoutView",
            "align_content": null,
            "align_items": null,
            "align_self": null,
            "border": null,
            "bottom": null,
            "display": null,
            "flex": null,
            "flex_flow": null,
            "grid_area": null,
            "grid_auto_columns": null,
            "grid_auto_flow": null,
            "grid_auto_rows": null,
            "grid_column": null,
            "grid_gap": null,
            "grid_row": null,
            "grid_template_areas": null,
            "grid_template_columns": null,
            "grid_template_rows": null,
            "height": null,
            "justify_content": null,
            "justify_items": null,
            "left": null,
            "margin": null,
            "max_height": null,
            "max_width": null,
            "min_height": null,
            "min_width": null,
            "object_fit": null,
            "object_position": null,
            "order": null,
            "overflow": null,
            "overflow_x": null,
            "overflow_y": null,
            "padding": null,
            "right": null,
            "top": null,
            "visibility": null,
            "width": null
          }
        },
        "3e70b5e784bc4bb7a653f66b6bd9bacc": {
          "model_module": "@jupyter-widgets/controls",
          "model_name": "DescriptionStyleModel",
          "model_module_version": "1.5.0",
          "state": {
            "_model_module": "@jupyter-widgets/controls",
            "_model_module_version": "1.5.0",
            "_model_name": "DescriptionStyleModel",
            "_view_count": null,
            "_view_module": "@jupyter-widgets/base",
            "_view_module_version": "1.2.0",
            "_view_name": "StyleView",
            "description_width": ""
          }
        }
      }
    }
  },
  "cells": [
    {
      "cell_type": "code",
      "source": [
        "%cd /content/drive/MyDrive"
      ],
      "metadata": {
        "colab": {
          "base_uri": "https://localhost:8080/"
        },
        "id": "7LBNDMbUzSjK",
        "outputId": "b537694c-6c0c-4971-854e-22e7d089bd2f"
      },
      "execution_count": 2,
      "outputs": [
        {
          "output_type": "stream",
          "name": "stdout",
          "text": [
            "/content/drive/MyDrive\n"
          ]
        }
      ]
    },
    {
      "cell_type": "code",
      "source": [
        "import os\n",
        "import numpy as np\n",
        "import pandas as pd\n",
        "import torch\n",
        "import matplotlib.pyplot as plt\n",
        "from tqdm import tqdm\n",
        "\n",
        "# define root directory\n",
        "ROOT = os.getcwd()\n",
        "print(ROOT)\n",
        "\n",
        "dataset_dir = os.path.join(ROOT,\"Vision\")\n",
        "#scenario_dir = os.path.join(dataset_dir,\"Scenario5\")\n",
        "#development_dir = os.path.join(scenario_dir, \"development_dataset\")\n",
        "#challenge_dir = os.path.join(scenario_dir, \"challenge_dataset\")"
      ],
      "metadata": {
        "colab": {
          "base_uri": "https://localhost:8080/"
        },
        "id": "PrDUsD32yvdf",
        "outputId": "31a8c203-0881-4a20-978c-6070899cc02a"
      },
      "execution_count": 3,
      "outputs": [
        {
          "output_type": "stream",
          "name": "stdout",
          "text": [
            "/content/drive/MyDrive\n"
          ]
        }
      ]
    },
    {
      "cell_type": "code",
      "source": [
        "import random\n",
        "\n",
        "seed = 42\n",
        "random.seed(seed)\n",
        "np.random.seed(seed)\n",
        "torch.manual_seed(seed)\n",
        "if torch.cuda.is_available() :\n",
        "    torch.cuda.manual_seed(seed)\n",
        "    torch.cuda.manual_seed_all(seed)\n",
        "torch.backends.cudnn.benchmark = False\n",
        "torch.backends.cudnn.deterministic = True"
      ],
      "metadata": {
        "id": "YOWvdJq40PzS"
      },
      "execution_count": 4,
      "outputs": []
    },
    {
      "cell_type": "code",
      "source": [
        "# load data\n",
        "\n",
        "import torchvision\n",
        "import torchvision.transforms as transforms\n",
        "from PIL import Image\n",
        "from torch.utils.data import DataLoader, Dataset\n",
        "import torchvision.transforms.functional as FT\n",
        "\n",
        "def transform(image, flag) :\n",
        "    mean = [0.485, 0.456, 0.406]\n",
        "    std =  [0.229, 0.224, 0.225]\n",
        "\n",
        "    if flag == 2 :      #test\n",
        "        new_image = FT.resize(image,224)\n",
        "        new_image = FT.to_tensor(new_image)\n",
        "        new_image = FT.normalize(new_image, mean=mean, std=std)\n",
        "    else :              #train, val\n",
        "        new_image = FT.resize(image,224)\n",
        "        new_image = FT.to_tensor(new_image)\n",
        "        new_image = FT.normalize(new_image, mean=mean, std=std)\n",
        "\n",
        "    return new_image\n",
        "\n",
        "class DeepSense6G(Dataset):\n",
        "    def __init__(self, data_folder, split, flag):\n",
        "        self.split = split\n",
        "        assert self.split in {'Scenario5','Scenario6','Scenario7','Scenario8','Scenario9'}\n",
        "\n",
        "        self.data_folder = data_folder\n",
        "        self.scenario_path = os.path.join(self.data_folder, split)\n",
        "        self.development_path = os.path.join(self.scenario_path, 'development_dataset')\n",
        "        self.challenge_path = os.path.join(self.scenario_path, 'challenge_dataset')\n",
        "\n",
        "        self.flag = flag\n",
        "\n",
        "        self.split = self.split.lower()\n",
        "        if flag == 0 :      #train\n",
        "            self.dataframe_path = os.path.join(self.development_path, self.split + '_dev_train.csv')\n",
        "        elif flag == 1 :    #validation\n",
        "            self.dataframe_path = os.path.join(self.development_path, self.split + '_dev_val.csv')\n",
        "        elif flag == 2 :              #test\n",
        "            self.dataframe_path = os.path.join(self.development_path, self.split + '_dev_test.csv')\n",
        "\n",
        "        self.dataframe = pd.read_csv(self.dataframe_path)\n",
        "\n",
        "        self.Images_path = self.dataframe['unit1_rgb_1'].values\n",
        "        self.Beam_index = self.dataframe['beam_index_1'].values\n",
        "        self.image_index = self.dataframe['index'].values\n",
        "        self.Beam_pwr_path = self.dataframe['unit1_pwr_1'].values\n",
        "\n",
        "    def __getitem__(self, i):\n",
        "\n",
        "        self.img_rel_path = self.Images_path[i]\n",
        "\n",
        "        if self.flag == 2 :     #test\n",
        "            self.img_abs_path = os.path.join(self.development_path, self.img_rel_path)\n",
        "        else :                  #train, validation\n",
        "            self.img_abs_path = os.path.join(self.development_path, self.img_rel_path)\n",
        "        \n",
        "        image = Image.open(self.img_abs_path, mode='r')\n",
        "        image = image.convert('RGB')\n",
        "\n",
        "        beam_index = self.Beam_index[i]\n",
        "\n",
        "        image = transform(image, self.flag)\n",
        "\n",
        "        return image, beam_index\n",
        "\n",
        "    def __len__(self):\n",
        "        return len(self.Images_path)\n",
        "\n",
        "    # def _collate_fn(self, batch_size) :\n",
        "\n",
        "    #     images = list()\n",
        "    #     beam_indexes = list()\n",
        "\n",
        "    #     for b in batch_size :\n",
        "    #         images.append(b[0])\n",
        "    #         beam_indexes.append(b[1])\n",
        "\n",
        "    #     images = torch.stack(images, dim=0)\n",
        "\n",
        "    #     return images, beam_indexes"
      ],
      "metadata": {
        "id": "8PP1GsMt1QQ7"
      },
      "execution_count": 5,
      "outputs": []
    },
    {
      "cell_type": "code",
      "source": [
        "# device initialize\n",
        "\n",
        "DEVICE = torch.device('cuda') if torch.cuda.is_available() else torch.device('cpu')\n",
        "print(DEVICE)"
      ],
      "metadata": {
        "colab": {
          "base_uri": "https://localhost:8080/"
        },
        "id": "pCxjwpy0zQeH",
        "outputId": "aa6be6f2-0b01-4a4f-e36a-bc17c9dec4be"
      },
      "execution_count": 6,
      "outputs": [
        {
          "output_type": "stream",
          "name": "stdout",
          "text": [
            "cuda\n"
          ]
        }
      ]
    },
    {
      "cell_type": "code",
      "source": [
        "# pre-trained model(ResNet50)\n",
        "\n",
        "from torchvision import models\n",
        "\n",
        "resnet50 = models.resnet50(pretrained=True)\n",
        "num_ftrs = resnet50.fc.in_features\n",
        "resnet50.fc = torch.nn.Linear(num_ftrs, 64)\n",
        "\n",
        "model = resnet50.to(DEVICE)"
      ],
      "metadata": {
        "colab": {
          "base_uri": "https://localhost:8080/",
          "height": 161,
          "referenced_widgets": [
            "b24780351a2b402d80ec8a6e5eb98791",
            "53739a99e912484dbe91d08f4e795a08",
            "5fbecbbacbc34c94baa5c51a1359c8c8",
            "856d0d6ca24c423f9bc827e6e741ae29",
            "e68efc8ffced4b1d8d288dfc8c71899e",
            "9f9e0f4bd2c84466a5d7fe2dcff6a4af",
            "af018e0ef19f467b821fa9363dacc367",
            "8f40b1ca67a241bbaecddbbc959c5587",
            "2f56c44e89c548a4a43a3720cbb09f47",
            "b5a660b773a844c68a54a396d98d2da2",
            "3e70b5e784bc4bb7a653f66b6bd9bacc"
          ]
        },
        "id": "QoPPmsHzB1sW",
        "outputId": "19cb16fd-e273-4758-d89a-c7029b56d460"
      },
      "execution_count": 7,
      "outputs": [
        {
          "output_type": "stream",
          "name": "stderr",
          "text": [
            "/usr/local/lib/python3.9/dist-packages/torchvision/models/_utils.py:208: UserWarning: The parameter 'pretrained' is deprecated since 0.13 and may be removed in the future, please use 'weights' instead.\n",
            "  warnings.warn(\n",
            "/usr/local/lib/python3.9/dist-packages/torchvision/models/_utils.py:223: UserWarning: Arguments other than a weight enum or `None` for 'weights' are deprecated since 0.13 and may be removed in the future. The current behavior is equivalent to passing `weights=ResNet50_Weights.IMAGENET1K_V1`. You can also use `weights=ResNet50_Weights.DEFAULT` to get the most up-to-date weights.\n",
            "  warnings.warn(msg)\n",
            "Downloading: \"https://download.pytorch.org/models/resnet50-0676ba61.pth\" to /root/.cache/torch/hub/checkpoints/resnet50-0676ba61.pth\n"
          ]
        },
        {
          "output_type": "display_data",
          "data": {
            "text/plain": [
              "  0%|          | 0.00/97.8M [00:00<?, ?B/s]"
            ],
            "application/vnd.jupyter.widget-view+json": {
              "version_major": 2,
              "version_minor": 0,
              "model_id": "b24780351a2b402d80ec8a6e5eb98791"
            }
          },
          "metadata": {}
        }
      ]
    },
    {
      "cell_type": "code",
      "source": [
        "# #%pip install torchsummary  #model summary\n",
        "# from torchsummary import summary \n",
        "\n",
        "# def summary_model(model, input_shape=(3,224,224)) :\n",
        "#     model = model.cuda()\n",
        "#     summary(model, input_shape)\n",
        "\n",
        "# print(model)\n",
        "# summary_model(model)"
      ],
      "metadata": {
        "id": "7AJvKJRpHqQI"
      },
      "execution_count": null,
      "outputs": []
    },
    {
      "cell_type": "code",
      "source": [
        "batch_size = 32\n",
        "scenario = 'Scenario9'"
      ],
      "metadata": {
        "id": "MR5CZwjGZ1wB"
      },
      "execution_count": 8,
      "outputs": []
    },
    {
      "cell_type": "code",
      "source": [
        "#training\n",
        "import time\n",
        "\n",
        "train_dataset = DeepSense6G(dataset_dir, split=scenario, flag=0)\n",
        "val_dataset = DeepSense6G(dataset_dir, split=scenario, flag=1)\n",
        "\n",
        "train_loader = torch.utils.data.DataLoader(train_dataset, batch_size=batch_size, shuffle=True)\n",
        "val_loader = torch.utils.data.DataLoader(val_dataset, batch_size=1, shuffle=False) \n",
        "\n",
        "epochs = 25\n",
        "best_loss = 100\n",
        "\n",
        "optimizer = torch.optim.Adam(model.parameters(), lr=0.0001)\n",
        "loss = torch.nn.CrossEntropyLoss().cuda()\n",
        "\n",
        "train_acc_list = []\n",
        "val_acc_list = []\n",
        "\n",
        "for epoch in range(epochs) :\n",
        "    start = time.time()\n",
        "    print(f'Epoch {epoch}/{epochs}')\n",
        "\n",
        "    #train\n",
        "    train_loss = 0\n",
        "    correct = 0\n",
        "\n",
        "    model.train()\n",
        "    for img, bi in tqdm(train_loader) :\n",
        "\n",
        "        optimizer.zero_grad()\n",
        "        y_pred = model(img.cuda())\n",
        "        cost = loss(y_pred, bi.cuda())\n",
        "\n",
        "        cost.backward()\n",
        "        optimizer.step()\n",
        "        train_loss += cost.item()\n",
        "\n",
        "        pred = y_pred.data.max(1, keepdim=True)[1]\n",
        "        correct += pred.cpu().eq(bi.data.view_as(pred)).sum()\n",
        "\n",
        "    train_loss /= len(train_loader)\n",
        "    train_acc = correct / len(train_loader.dataset)\n",
        "    train_acc_list.append(train_acc)\n",
        "\n",
        "    #validate\n",
        "    val_loss = 0\n",
        "    val_correct = 0\n",
        "\n",
        "    with torch.no_grad() :\n",
        "        model.eval()\n",
        "        for img, bi in val_loader :\n",
        "            y_pred = model(img.cuda())\n",
        "            cost = loss(y_pred, bi.cuda())\n",
        "            val_loss += cost.item()\n",
        "\n",
        "            pred = y_pred.data.max(1, keepdim=True)[1]\n",
        "            val_correct += pred.cpu().eq(bi.data.view_as(pred)).cpu().sum()\n",
        "        \n",
        "        val_loss /= len(val_loader)\n",
        "        val_acc = val_correct / len(val_loader.dataset)\n",
        "        val_acc_list.append(val_acc)\n",
        "\n",
        "        if val_loss < best_loss :\n",
        "            torch.save({\n",
        "                'epoch' : epoch,\n",
        "                'model' : model,\n",
        "                'model_state_dict' : model.state_dict(),\n",
        "                'optimizer_state_dict' : optimizer.state_dict(),\n",
        "                'loss' : cost.item,\n",
        "            }, os.path.join(dataset_dir, scenario + '/checkpoint/bestCheckpoint.pth'))\n",
        "\n",
        "            print(f'Epoch {epoch:05d}: val_loss improved from {best_loss:.5f} to {val_loss:.5f}, saving model to bestCheckPoint.pth')\n",
        "            best_loss = val_loss\n",
        "        else :\n",
        "            print(f'Epoch {epoch:05d}: val_loss did not improve')\n",
        "    print(f'{int(time.time() - start)}s - loss: {train_loss: .5f} - acc: {train_acc:.5f} - val_loss: {val_loss:.5f} - val_acc: {val_acc:.5f}')\n",
        "\n",
        "    "
      ],
      "metadata": {
        "colab": {
          "base_uri": "https://localhost:8080/"
        },
        "id": "WIy1E3Z4H9nX",
        "outputId": "ab69bd2a-37e9-4d46-8fed-1929643e422d"
      },
      "execution_count": 10,
      "outputs": [
        {
          "output_type": "stream",
          "name": "stdout",
          "text": [
            "Epoch 0/25\n"
          ]
        },
        {
          "output_type": "stream",
          "name": "stderr",
          "text": [
            "100%|██████████| 132/132 [02:45<00:00,  1.26s/it]\n"
          ]
        },
        {
          "output_type": "stream",
          "name": "stdout",
          "text": [
            "Epoch 00000: val_loss improved from 100.00000 to 1.27716, saving model to bestCheckPoint.pth\n",
            "206s - loss:  1.28643 - acc: 0.55728 - val_loss: 1.27716 - val_acc: 0.54010\n",
            "Epoch 1/25\n"
          ]
        },
        {
          "output_type": "stream",
          "name": "stderr",
          "text": [
            "100%|██████████| 132/132 [02:47<00:00,  1.27s/it]\n"
          ]
        },
        {
          "output_type": "stream",
          "name": "stdout",
          "text": [
            "Epoch 00001: val_loss improved from 1.27716 to 1.15777, saving model to bestCheckPoint.pth\n",
            "209s - loss:  1.15038 - acc: 0.58014 - val_loss: 1.15777 - val_acc: 0.57679\n",
            "Epoch 2/25\n"
          ]
        },
        {
          "output_type": "stream",
          "name": "stderr",
          "text": [
            "100%|██████████| 132/132 [02:46<00:00,  1.26s/it]\n"
          ]
        },
        {
          "output_type": "stream",
          "name": "stdout",
          "text": [
            "Epoch 00002: val_loss improved from 1.15777 to 1.13828, saving model to bestCheckPoint.pth\n",
            "207s - loss:  1.09119 - acc: 0.59633 - val_loss: 1.13828 - val_acc: 0.58703\n",
            "Epoch 3/25\n"
          ]
        },
        {
          "output_type": "stream",
          "name": "stderr",
          "text": [
            "100%|██████████| 132/132 [02:46<00:00,  1.26s/it]\n"
          ]
        },
        {
          "output_type": "stream",
          "name": "stdout",
          "text": [
            "Epoch 00003: val_loss did not improve\n",
            "204s - loss:  1.00851 - acc: 0.61967 - val_loss: 1.20562 - val_acc: 0.57765\n",
            "Epoch 4/25\n"
          ]
        },
        {
          "output_type": "stream",
          "name": "stderr",
          "text": [
            "100%|██████████| 132/132 [02:45<00:00,  1.25s/it]\n"
          ]
        },
        {
          "output_type": "stream",
          "name": "stdout",
          "text": [
            "Epoch 00004: val_loss did not improve\n",
            "203s - loss:  0.96224 - acc: 0.64230 - val_loss: 1.20431 - val_acc: 0.57935\n",
            "Epoch 5/25\n"
          ]
        },
        {
          "output_type": "stream",
          "name": "stderr",
          "text": [
            "100%|██████████| 132/132 [02:46<00:00,  1.26s/it]\n"
          ]
        },
        {
          "output_type": "stream",
          "name": "stdout",
          "text": [
            "Epoch 00005: val_loss did not improve\n",
            "204s - loss:  0.86911 - acc: 0.66945 - val_loss: 1.20297 - val_acc: 0.56655\n",
            "Epoch 6/25\n"
          ]
        },
        {
          "output_type": "stream",
          "name": "stderr",
          "text": [
            "100%|██████████| 132/132 [02:45<00:00,  1.25s/it]\n"
          ]
        },
        {
          "output_type": "stream",
          "name": "stdout",
          "text": [
            "Epoch 00006: val_loss did not improve\n",
            "204s - loss:  0.76402 - acc: 0.71493 - val_loss: 1.29242 - val_acc: 0.57509\n",
            "Epoch 7/25\n"
          ]
        },
        {
          "output_type": "stream",
          "name": "stderr",
          "text": [
            "100%|██████████| 132/132 [02:45<00:00,  1.25s/it]\n"
          ]
        },
        {
          "output_type": "stream",
          "name": "stdout",
          "text": [
            "Epoch 00007: val_loss did not improve\n",
            "205s - loss:  0.65791 - acc: 0.75637 - val_loss: 1.36123 - val_acc: 0.55631\n",
            "Epoch 8/25\n"
          ]
        },
        {
          "output_type": "stream",
          "name": "stderr",
          "text": [
            "100%|██████████| 132/132 [02:46<00:00,  1.26s/it]\n"
          ]
        },
        {
          "output_type": "stream",
          "name": "stdout",
          "text": [
            "Epoch 00008: val_loss did not improve\n",
            "204s - loss:  0.54770 - acc: 0.80614 - val_loss: 1.44102 - val_acc: 0.56826\n",
            "Epoch 9/25\n"
          ]
        },
        {
          "output_type": "stream",
          "name": "stderr",
          "text": [
            "100%|██████████| 132/132 [02:45<00:00,  1.25s/it]\n"
          ]
        },
        {
          "output_type": "stream",
          "name": "stdout",
          "text": [
            "Epoch 00009: val_loss did not improve\n",
            "204s - loss:  0.42985 - acc: 0.85044 - val_loss: 1.62430 - val_acc: 0.54266\n",
            "Epoch 10/25\n"
          ]
        },
        {
          "output_type": "stream",
          "name": "stderr",
          "text": [
            "100%|██████████| 132/132 [02:45<00:00,  1.26s/it]\n"
          ]
        },
        {
          "output_type": "stream",
          "name": "stdout",
          "text": [
            "Epoch 00010: val_loss did not improve\n",
            "205s - loss:  0.35684 - acc: 0.89045 - val_loss: 1.69634 - val_acc: 0.54181\n",
            "Epoch 11/25\n"
          ]
        },
        {
          "output_type": "stream",
          "name": "stderr",
          "text": [
            "100%|██████████| 132/132 [02:44<00:00,  1.25s/it]\n"
          ]
        },
        {
          "output_type": "stream",
          "name": "stdout",
          "text": [
            "Epoch 00011: val_loss did not improve\n",
            "202s - loss:  0.22795 - acc: 0.93427 - val_loss: 1.75805 - val_acc: 0.54096\n",
            "Epoch 12/25\n"
          ]
        },
        {
          "output_type": "stream",
          "name": "stderr",
          "text": [
            "100%|██████████| 132/132 [02:43<00:00,  1.24s/it]\n"
          ]
        },
        {
          "output_type": "stream",
          "name": "stdout",
          "text": [
            "Epoch 00012: val_loss did not improve\n",
            "203s - loss:  0.16835 - acc: 0.95118 - val_loss: 1.82339 - val_acc: 0.54863\n",
            "Epoch 13/25\n"
          ]
        },
        {
          "output_type": "stream",
          "name": "stderr",
          "text": [
            "100%|██████████| 132/132 [02:43<00:00,  1.24s/it]\n"
          ]
        },
        {
          "output_type": "stream",
          "name": "stdout",
          "text": [
            "Epoch 00013: val_loss did not improve\n",
            "201s - loss:  0.12353 - acc: 0.96904 - val_loss: 1.84144 - val_acc: 0.55290\n",
            "Epoch 14/25\n"
          ]
        },
        {
          "output_type": "stream",
          "name": "stderr",
          "text": [
            "100%|██████████| 132/132 [02:43<00:00,  1.24s/it]\n"
          ]
        },
        {
          "output_type": "stream",
          "name": "stdout",
          "text": [
            "Epoch 00014: val_loss did not improve\n",
            "201s - loss:  0.12299 - acc: 0.96737 - val_loss: 2.12230 - val_acc: 0.50256\n",
            "Epoch 15/25\n"
          ]
        },
        {
          "output_type": "stream",
          "name": "stderr",
          "text": [
            "100%|██████████| 132/132 [02:43<00:00,  1.24s/it]\n"
          ]
        },
        {
          "output_type": "stream",
          "name": "stdout",
          "text": [
            "Epoch 00015: val_loss did not improve\n",
            "202s - loss:  0.10189 - acc: 0.97190 - val_loss: 2.04033 - val_acc: 0.54863\n",
            "Epoch 16/25\n"
          ]
        },
        {
          "output_type": "stream",
          "name": "stderr",
          "text": [
            "100%|██████████| 132/132 [02:43<00:00,  1.24s/it]\n"
          ]
        },
        {
          "output_type": "stream",
          "name": "stdout",
          "text": [
            "Epoch 00016: val_loss did not improve\n",
            "201s - loss:  0.09943 - acc: 0.97404 - val_loss: 2.26188 - val_acc: 0.52474\n",
            "Epoch 17/25\n"
          ]
        },
        {
          "output_type": "stream",
          "name": "stderr",
          "text": [
            "100%|██████████| 132/132 [02:43<00:00,  1.24s/it]\n"
          ]
        },
        {
          "output_type": "stream",
          "name": "stdout",
          "text": [
            "Epoch 00017: val_loss did not improve\n",
            "202s - loss:  0.11936 - acc: 0.97142 - val_loss: 2.05413 - val_acc: 0.54352\n",
            "Epoch 18/25\n"
          ]
        },
        {
          "output_type": "stream",
          "name": "stderr",
          "text": [
            "100%|██████████| 132/132 [02:43<00:00,  1.24s/it]\n"
          ]
        },
        {
          "output_type": "stream",
          "name": "stdout",
          "text": [
            "Epoch 00018: val_loss did not improve\n",
            "201s - loss:  0.09483 - acc: 0.97333 - val_loss: 2.19129 - val_acc: 0.54010\n",
            "Epoch 19/25\n"
          ]
        },
        {
          "output_type": "stream",
          "name": "stderr",
          "text": [
            "100%|██████████| 132/132 [02:43<00:00,  1.24s/it]\n"
          ]
        },
        {
          "output_type": "stream",
          "name": "stdout",
          "text": [
            "Epoch 00019: val_loss did not improve\n",
            "200s - loss:  0.09502 - acc: 0.97357 - val_loss: 2.10970 - val_acc: 0.57167\n",
            "Epoch 20/25\n"
          ]
        },
        {
          "output_type": "stream",
          "name": "stderr",
          "text": [
            "100%|██████████| 132/132 [02:44<00:00,  1.24s/it]\n"
          ]
        },
        {
          "output_type": "stream",
          "name": "stdout",
          "text": [
            "Epoch 00020: val_loss did not improve\n",
            "202s - loss:  0.11877 - acc: 0.96666 - val_loss: 2.28081 - val_acc: 0.52986\n",
            "Epoch 21/25\n"
          ]
        },
        {
          "output_type": "stream",
          "name": "stderr",
          "text": [
            "100%|██████████| 132/132 [02:43<00:00,  1.24s/it]\n"
          ]
        },
        {
          "output_type": "stream",
          "name": "stdout",
          "text": [
            "Epoch 00021: val_loss did not improve\n",
            "201s - loss:  0.07290 - acc: 0.98142 - val_loss: 2.32838 - val_acc: 0.53584\n",
            "Epoch 22/25\n"
          ]
        },
        {
          "output_type": "stream",
          "name": "stderr",
          "text": [
            "100%|██████████| 132/132 [02:44<00:00,  1.25s/it]\n"
          ]
        },
        {
          "output_type": "stream",
          "name": "stdout",
          "text": [
            "Epoch 00022: val_loss did not improve\n",
            "202s - loss:  0.08544 - acc: 0.97547 - val_loss: 2.34169 - val_acc: 0.53840\n",
            "Epoch 23/25\n"
          ]
        },
        {
          "output_type": "stream",
          "name": "stderr",
          "text": [
            "100%|██████████| 132/132 [02:43<00:00,  1.24s/it]\n"
          ]
        },
        {
          "output_type": "stream",
          "name": "stdout",
          "text": [
            "Epoch 00023: val_loss did not improve\n",
            "202s - loss:  0.07211 - acc: 0.97857 - val_loss: 2.37772 - val_acc: 0.56741\n",
            "Epoch 24/25\n"
          ]
        },
        {
          "output_type": "stream",
          "name": "stderr",
          "text": [
            "100%|██████████| 132/132 [02:44<00:00,  1.25s/it]\n"
          ]
        },
        {
          "output_type": "stream",
          "name": "stdout",
          "text": [
            "Epoch 00024: val_loss did not improve\n",
            "204s - loss:  0.04368 - acc: 0.98928 - val_loss: 2.41169 - val_acc: 0.54352\n"
          ]
        }
      ]
    },
    {
      "cell_type": "markdown",
      "source": [],
      "metadata": {
        "id": "P9BPvkn4QQmb"
      }
    },
    {
      "cell_type": "code",
      "source": [
        "## 저장되어있는 best checkpoint load\n",
        "\n",
        "best_model = torch.load(os.path.join(dataset_dir, scenario + '/checkpoint/bestCheckpoint.pth'))['model'] \n",
        "best_model.load_state_dict(torch.load(os.path.join(dataset_dir, scenario + '/checkpoint/bestCheckpoint.pth'))['model_state_dict'])  "
      ],
      "metadata": {
        "id": "8mJFX9kGj5rg",
        "colab": {
          "base_uri": "https://localhost:8080/"
        },
        "outputId": "87bcb272-d3a3-4883-d366-74dee2179fb3"
      },
      "execution_count": 11,
      "outputs": [
        {
          "output_type": "execute_result",
          "data": {
            "text/plain": [
              "<All keys matched successfully>"
            ]
          },
          "metadata": {},
          "execution_count": 11
        }
      ]
    },
    {
      "cell_type": "code",
      "source": [
        "batch_size = 1"
      ],
      "metadata": {
        "id": "AQakmXQtaa2w"
      },
      "execution_count": 12,
      "outputs": []
    },
    {
      "cell_type": "code",
      "source": [
        "#test \n",
        "\n",
        "test_dataset = DeepSense6G(dataset_dir, split=scenario, flag=2)\n",
        "\n",
        "test_loader = torch.utils.data.DataLoader(test_dataset, batch_size=batch_size, shuffle=True)\n",
        "\n",
        "correct = 0\n",
        "total = 0\n",
        "total_results = []\n",
        "gt = []\n",
        "\n",
        "def top_k (gts, preds, k) :\n",
        "    correct = 0\n",
        "\n",
        "    for i in range(len(preds)) :\n",
        "        gt = gts[i]\n",
        "        pred = preds[i]\n",
        "        correct += int(gt.item() in pred[:k])\n",
        "    \n",
        "    print(scenario, 'top', k, 'accuracy', 100 * correct / len(preds))\n",
        "\n",
        "def mse (gts, preds) :\n",
        "    mse = 0\n",
        "\n",
        "    for i in range(len(preds)) :\n",
        "        gt = gts[i].item()\n",
        "        pred = preds[i][0]\n",
        "        mse += (gt-pred)**2\n",
        "    \n",
        "    print(scenario, 'mse', mse/len(preds))\n",
        "\n",
        "with torch.no_grad() :\n",
        "    model.eval()\n",
        "    for img, bi in test_loader :\n",
        "        pred = model(img.cuda())\n",
        "        sorted_result_idx = np.flip(np.array(np.argsort(pred.cpu())[0]))\n",
        "        top3 = sorted_result_idx[:3]\n",
        "        total_results.append(top3)\n",
        "        gt.append(bi)\n",
        "\n",
        "top_k(gt, total_results, 1)\n",
        "top_k(gt, total_results, 2)\n",
        "top_k(gt, total_results, 3)\n",
        "mse(gt, total_results)"
      ],
      "metadata": {
        "id": "TfT2xNwEOF15",
        "colab": {
          "base_uri": "https://localhost:8080/"
        },
        "outputId": "808b3b3e-06d2-42a7-a82f-0ad50078ce0d"
      },
      "execution_count": 13,
      "outputs": [
        {
          "output_type": "stream",
          "name": "stdout",
          "text": [
            "Scenario9 top 1 accuracy 56.323777403035415\n",
            "Scenario9 top 2 accuracy 80.94435075885329\n",
            "Scenario9 top 3 accuracy 89.03878583473862\n",
            "Scenario9 mse 3.220910623946037\n"
          ]
        }
      ]
    },
    {
      "cell_type": "code",
      "source": [],
      "metadata": {
        "id": "soqkwzFVbDuo"
      },
      "execution_count": null,
      "outputs": []
    }
  ]
}